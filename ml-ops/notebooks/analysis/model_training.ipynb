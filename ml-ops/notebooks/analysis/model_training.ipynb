{
 "cells": [
  {
   "cell_type": "markdown",
   "metadata": {},
   "source": [
    "# Model Training Pipeline\n",
    "\n",
    "This notebook implements the model training pipeline for two main tasks:\n",
    "1. Predicting network issues using network performance data\n",
    "2. Predicting customer churn using customer experience data\n",
    "\n",
    "We'll use various baseline models and evaluate their performance."
   ]
  },
  {
   "cell_type": "markdown",
   "metadata": {},
   "source": [
    "## 1. Setup and Data Loading"
   ]
  },
  {
   "cell_type": "code",
   "execution_count": 1,
   "metadata": {},
   "outputs": [],
   "source": [
    "import pandas as pd\n",
    "import numpy as np\n",
    "import matplotlib.pyplot as plt\n",
    "import seaborn as sns\n",
    "from sklearn.model_selection import train_test_split, cross_val_score\n",
    "from sklearn.preprocessing import StandardScaler\n",
    "from sklearn.metrics import accuracy_score, precision_score, recall_score, f1_score, roc_auc_score\n",
    "from sklearn.linear_model import LogisticRegression\n",
    "from sklearn.ensemble import RandomForestClassifier\n",
    "from sklearn.svm import SVC\n",
    "from xgboost import XGBClassifier\n",
    "\n",
    "# Set display options\n",
    "pd.set_option('display.max_columns', None)\n",
    "pd.set_option('display.max_rows', 100)\n",
    "\n",
    "# Set plot style\n",
    "plt.style.use('default')"
   ]
  },
  {
   "cell_type": "code",
   "execution_count": 2,
   "metadata": {},
   "outputs": [],
   "source": [
    "# Load the datasets\n",
    "network_df = pd.read_csv(\"../../data/raw/sample_data/network_performance_sample.csv\")\n",
    "customer_df = pd.read_csv(\"../../data/raw/sample_data/customer_experience_sample.csv\")\n",
    "cdr_df = pd.read_csv(\"../../data/raw/sample_data/call_detail_records_sample.csv\")\n",
    "\n",
    "# Convert timestamps to datetime\n",
    "network_df[\"timestamp\"] = pd.to_datetime(network_df[\"timestamp\"])\n",
    "customer_df[\"timestamp\"] = pd.to_datetime(customer_df[\"timestamp\"])\n",
    "cdr_df[\"timestamp\"] = pd.to_datetime(cdr_df[\"timestamp\"])"
   ]
  },
  {
   "cell_type": "markdown",
   "metadata": {},
   "source": [
    "## 2. Network Issue Prediction"
   ]
  },
  {
   "cell_type": "code",
   "execution_count": 3,
   "metadata": {},
   "outputs": [
    {
     "name": "stdout",
     "output_type": "stream",
     "text": [
      "Network Issues Distribution:\n",
      "is_issue\n",
      "1    0.833333\n",
      "0    0.166667\n",
      "Name: proportion, dtype: float64\n"
     ]
    }
   ],
   "source": [
    "def identify_network_issues(df):\n",
    "    df = df.copy()\n",
    "    # Define thresholds for network issues using more balanced values\n",
    "    df['is_issue'] = (\n",
    "        (df['latency_ms'] > 45) |  # High latency\n",
    "        (df['packet_loss'] > 0.015) |  # High packet loss\n",
    "        (df['throughput_mbps'] < 55)  # Low throughput\n",
    "    ).astype(int)\n",
    "    return df\n",
    "\n",
    "# Prepare network data for modeling\n",
    "network_issues_df = identify_network_issues(network_df)\n",
    "\n",
    "# Check the distribution of network issues\n",
    "print(\"Network Issues Distribution:\")\n",
    "print(network_issues_df['is_issue'].value_counts(normalize=True))"
   ]
  },
  {
   "cell_type": "code",
   "execution_count": 4,
   "metadata": {},
   "outputs": [],
   "source": [
    "# Select features for network issue prediction\n",
    "network_features = ['latency_ms', 'packet_loss', 'throughput_mbps', 'signal_strength']\n",
    "X_network = network_issues_df[network_features]\n",
    "y_network = network_issues_df['is_issue']\n",
    "\n",
    "# Split the data\n",
    "X_train_net, X_test_net, y_train_net, y_test_net = train_test_split(\n",
    "    X_network, y_network, test_size=0.2, random_state=42\n",
    ")\n",
    "\n",
    "# Scale the features\n",
    "scaler = StandardScaler()\n",
    "X_train_net_scaled = scaler.fit_transform(X_train_net)\n",
    "X_test_net_scaled = scaler.transform(X_test_net)"
   ]
  },
  {
   "cell_type": "code",
   "execution_count": 5,
   "metadata": {},
   "outputs": [],
   "source": [
    "def train_and_evaluate_models(X_train, X_test, y_train, y_test):\n",
    "    # Use only the more robust models\n",
    "    models = {\n",
    "        'Logistic Regression': LogisticRegression(class_weight='balanced'),\n",
    "        'Random Forest': RandomForestClassifier(class_weight='balanced'),\n",
    "        'SVM': SVC(probability=True, class_weight='balanced')\n",
    "    }\n",
    "    \n",
    "    results = {}\n",
    "    for name, model in models.items():\n",
    "        try:\n",
    "            # Train the model\n",
    "            model.fit(X_train, y_train)\n",
    "            \n",
    "            # Make predictions\n",
    "            y_pred = model.predict(X_test)\n",
    "            y_pred_proba = model.predict_proba(X_test)[:, 1]\n",
    "            \n",
    "            # Calculate metrics with zero_division=0\n",
    "            results[name] = {\n",
    "                'Accuracy': accuracy_score(y_test, y_pred),\n",
    "                'Precision': precision_score(y_test, y_pred, zero_division=0),\n",
    "                'Recall': recall_score(y_test, y_pred, zero_division=0),\n",
    "                'F1 Score': f1_score(y_test, y_pred, zero_division=0),\n",
    "                'ROC AUC': roc_auc_score(y_test, y_pred_proba) if len(np.unique(y_test)) > 1 else 0.5\n",
    "            }\n",
    "        except Exception as e:\n",
    "            print(f\"Error with {name}: {str(e)}\")\n",
    "            results[name] = {\n",
    "                'Accuracy': 0,\n",
    "                'Precision': 0,\n",
    "                'Recall': 0,\n",
    "                'F1 Score': 0,\n",
    "                'ROC AUC': 0.5\n",
    "            }\n",
    "    \n",
    "    return pd.DataFrame(results).T"
   ]
  },
  {
   "cell_type": "code",
   "execution_count": 6,
   "metadata": {},
   "outputs": [
    {
     "name": "stdout",
     "output_type": "stream",
     "text": [
      "\n",
      "Network Issue Prediction Results:\n",
      "                     Accuracy  Precision  Recall  F1 Score  ROC AUC\n",
      "Logistic Regression       0.5        1.0     0.5  0.666667      0.5\n",
      "Random Forest             0.5        1.0     0.5  0.666667      0.5\n",
      "SVM                       0.5        1.0     0.5  0.666667      0.5\n"
     ]
    }
   ],
   "source": [
    "# Train and evaluate network issue models\n",
    "network_results = train_and_evaluate_models(\n",
    "    X_train_net_scaled, X_test_net_scaled, y_train_net, y_test_net\n",
    ")\n",
    "print(\"\\nNetwork Issue Prediction Results:\")\n",
    "print(network_results)"
   ]
  },
  {
   "cell_type": "markdown",
   "metadata": {},
   "source": [
    "## 3. Customer Churn Prediction"
   ]
  },
  {
   "cell_type": "code",
   "execution_count": 7,
   "metadata": {},
   "outputs": [],
   "source": [
    "def train_and_evaluate_models(X_train, X_test, y_train, y_test):\n",
    "    # Use only the more robust models\n",
    "    models = {\n",
    "        'Logistic Regression': LogisticRegression(class_weight='balanced'),\n",
    "        'Random Forest': RandomForestClassifier(class_weight='balanced'),\n",
    "        'SVM': SVC(probability=True, class_weight='balanced')\n",
    "    }\n",
    "    \n",
    "    results = {}\n",
    "    for name, model in models.items():\n",
    "        try:\n",
    "            # Train the model\n",
    "            model.fit(X_train, y_train)\n",
    "            \n",
    "            # Make predictions\n",
    "            y_pred = model.predict(X_test)\n",
    "            y_pred_proba = model.predict_proba(X_test)[:, 1]\n",
    "            \n",
    "            # Calculate metrics with zero_division=0\n",
    "            results[name] = {\n",
    "                'Accuracy': accuracy_score(y_test, y_pred),\n",
    "                'Precision': precision_score(y_test, y_pred, zero_division=0),\n",
    "                'Recall': recall_score(y_test, y_pred, zero_division=0),\n",
    "                'F1 Score': f1_score(y_test, y_pred, zero_division=0),\n",
    "                'ROC AUC': roc_auc_score(y_test, y_pred_proba) if len(np.unique(y_test)) > 1 else 0.5\n",
    "            }\n",
    "        except Exception as e:\n",
    "            print(f\"Error with {name}: {str(e)}\")\n",
    "            results[name] = {\n",
    "                'Accuracy': 0,\n",
    "                'Precision': 0,\n",
    "                'Recall': 0,\n",
    "                'F1 Score': 0,\n",
    "                'ROC AUC': 0.5\n",
    "            }\n",
    "    \n",
    "    return pd.DataFrame(results).T"
   ]
  },
  {
   "cell_type": "code",
   "execution_count": 8,
   "metadata": {
    "scrolled": true
   },
   "outputs": [
    {
     "name": "stdout",
     "output_type": "stream",
     "text": [
      "\n",
      "Network Issue Prediction Results:\n",
      "                     Accuracy  Precision  Recall  F1 Score  ROC AUC\n",
      "Logistic Regression       0.5        1.0     0.5  0.666667      0.5\n",
      "Random Forest             0.5        1.0     0.5  0.666667      0.5\n",
      "SVM                       0.5        1.0     0.5  0.666667      0.5\n"
     ]
    }
   ],
   "source": [
    "# Train and evaluate network issue prediction models\n",
    "network_results = train_and_evaluate_models(\n",
    "    X_train_net_scaled, X_test_net_scaled, y_train_net, y_test_net\n",
    ")\n",
    "print(\"\\nNetwork Issue Prediction Results:\")\n",
    "print(network_results)"
   ]
  },
  {
   "cell_type": "markdown",
   "metadata": {},
   "source": [
    "## 4. Model Comparison and Visualization"
   ]
  },
  {
   "cell_type": "code",
   "execution_count": 9,
   "metadata": {},
   "outputs": [
    {
     "ename": "NameError",
     "evalue": "name 'churn_results' is not defined",
     "output_type": "error",
     "traceback": [
      "\u001b[31m---------------------------------------------------------------------------\u001b[39m",
      "\u001b[31mNameError\u001b[39m                                 Traceback (most recent call last)",
      "\u001b[36mCell\u001b[39m\u001b[36m \u001b[39m\u001b[32mIn[9]\u001b[39m\u001b[32m, line 21\u001b[39m\n\u001b[32m     18\u001b[39m     plt.show()\n\u001b[32m     20\u001b[39m \u001b[38;5;66;03m# Plot the results\u001b[39;00m\n\u001b[32m---> \u001b[39m\u001b[32m21\u001b[39m plot_model_comparison(network_results, \u001b[43mchurn_results\u001b[49m)\n",
      "\u001b[31mNameError\u001b[39m: name 'churn_results' is not defined"
     ]
    }
   ],
   "source": [
    "def plot_model_comparison(network_results, churn_results=None):\n",
    "    # Create figure with subplots\n",
    "    fig, axes = plt.subplots(1, 2 if churn_results is not None else 1, figsize=(15, 5))\n",
    "    if churn_results is None:\n",
    "        axes = [axes]  # Make axes iterable even with single subplot\n",
    "    \n",
    "    # Plot network results\n",
    "    network_results.plot(kind='bar', ax=axes[0])\n",
    "    axes[0].set_title('Network Issue Prediction')\n",
    "    axes[0].set_ylabel('Score')\n",
    "    axes[0].tick_params(axis='x', rotation=45)\n",
    "    \n",
    "    # Plot churn results if available\n",
    "    if churn_results is not None:\n",
    "        churn_results.plot(kind='bar', ax=axes[1])\n",
    "        axes[1].set_title('Customer Churn Prediction')\n",
    "        axes[1].set_ylabel('Score')\n",
    "        axes[1].tick_params(axis='x', rotation=45)\n",
    "    \n",
    "    plt.tight_layout()\n",
    "    plt.show()"
   ]
  },
  {
   "cell_type": "code",
   "execution_count": null,
   "metadata": {},
   "outputs": [],
   "source": [
    "# Plot the results\n",
    "plot_model_comparison(network_results)"
   ]
  },
  {
   "cell_type": "code",
   "execution_count": null,
   "metadata": {},
   "outputs": [],
   "source": []
  },
  {
   "cell_type": "code",
   "execution_count": null,
   "metadata": {},
   "outputs": [],
   "source": []
  }
 ],
 "metadata": {
  "kernelspec": {
   "display_name": "Python 3 (ipykernel)",
   "language": "python",
   "name": "python3"
  },
  "language_info": {
   "codemirror_mode": {
    "name": "ipython",
    "version": 3
   },
   "file_extension": ".py",
   "mimetype": "text/x-python",
   "name": "python",
   "nbconvert_exporter": "python",
   "pygments_lexer": "ipython3",
   "version": "3.11.12"
  }
 },
 "nbformat": 4,
 "nbformat_minor": 4
}
