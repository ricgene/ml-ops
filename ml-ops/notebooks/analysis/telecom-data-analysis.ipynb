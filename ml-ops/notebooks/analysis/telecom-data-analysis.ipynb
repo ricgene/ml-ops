{
 "cells": [
  {
   "cell_type": "code",
   "execution_count": null,
   "id": "b5c0d5a9-86b5-4d8c-9a77-1ddf171e8aa9",
   "metadata": {},
   "outputs": [],
   "source": []
  }
 ],
 "metadata": {
  "kernelspec": {
   "display_name": "Python 3 (ipykernel)",
   "language": "python",
   "name": "python3"
  },
  "language_info": {
   "codemirror_mode": {
    "name": "ipython",
    "version": 3
   },
   "file_extension": ".py",
   "mimetype": "text/x-python",
   "name": "python",
   "nbconvert_exporter": "python",
   "pygments_lexer": "ipython3",
   "version": "3.11.12"
  }
 },
 "nbformat": 4,
 "nbformat_minor": 5
}
